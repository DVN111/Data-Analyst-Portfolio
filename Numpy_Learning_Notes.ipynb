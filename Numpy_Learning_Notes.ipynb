{
  "nbformat": 4,
  "nbformat_minor": 0,
  "metadata": {
    "colab": {
      "provenance": [],
      "authorship_tag": "ABX9TyO2s0B64qaIjUohtcnOVQMa",
      "include_colab_link": true
    },
    "kernelspec": {
      "name": "python3",
      "display_name": "Python 3"
    },
    "language_info": {
      "name": "python"
    }
  },
  "cells": [
    {
      "cell_type": "markdown",
      "metadata": {
        "id": "view-in-github",
        "colab_type": "text"
      },
      "source": [
        "<a href=\"https://colab.research.google.com/github/DVN111/Data-Analyst-Portfolio/blob/main/Numpy_Learning_Notes.ipynb\" target=\"_parent\"><img src=\"https://colab.research.google.com/assets/colab-badge.svg\" alt=\"Open In Colab\"/></a>"
      ]
    },
    {
      "cell_type": "markdown",
      "source": [
        "# Num.PY Learning Notes"
      ],
      "metadata": {
        "id": "S0U8zR1lmFnE"
      }
    },
    {
      "cell_type": "markdown",
      "source": [
        "## 1D Array"
      ],
      "metadata": {
        "id": "Q1UqjT3fmTOO"
      }
    },
    {
      "cell_type": "code",
      "source": [
        "# belajar numpyimport numpy\n",
        "\n",
        "import numpy as np\n",
        "\n",
        "# create numpy array\n",
        "\n",
        "# Vektor\n",
        "vektor = np.array([1, 2, 3])\n",
        "print(\"Vektor:\")\n",
        "print(vektor)\n",
        "\n",
        "# Matriks\n",
        "matriks = np.array([[1, 2, 3], [4, 5, 6]])\n",
        "print(\"\\nMatriks:\")\n",
        "print(matriks)\n",
        "\n",
        "arr = np.array([1,2,3,4,5])\n",
        "arr"
      ],
      "metadata": {
        "colab": {
          "base_uri": "https://localhost:8080/"
        },
        "id": "Q4dGJQEOJBOq",
        "outputId": "05528014-7c1e-4ff3-b4d7-6776b320b90b"
      },
      "execution_count": 29,
      "outputs": [
        {
          "output_type": "stream",
          "name": "stdout",
          "text": [
            "Vektor:\n",
            "[1 2 3]\n",
            "\n",
            "Matriks:\n",
            "[[1 2 3]\n",
            " [4 5 6]]\n"
          ]
        },
        {
          "output_type": "execute_result",
          "data": {
            "text/plain": [
              "array([1, 2, 3, 4, 5])"
            ]
          },
          "metadata": {},
          "execution_count": 29
        }
      ]
    },
    {
      "cell_type": "code",
      "source": [
        "# access every pint in array\n",
        "arr[0],arr[1],arr[2]"
      ],
      "metadata": {
        "colab": {
          "base_uri": "https://localhost:8080/"
        },
        "id": "-XwLGWqiRt00",
        "outputId": "fbedee07-1180-44da-f5d7-e718207563dc"
      },
      "execution_count": 2,
      "outputs": [
        {
          "output_type": "execute_result",
          "data": {
            "text/plain": [
              "(1, 2, 3)"
            ]
          },
          "metadata": {},
          "execution_count": 2
        }
      ]
    },
    {
      "cell_type": "code",
      "source": [
        "# menggunakan slicing\n",
        "arr[0:]"
      ],
      "metadata": {
        "colab": {
          "base_uri": "https://localhost:8080/"
        },
        "id": "Y76Ymh8DSQz5",
        "outputId": "66e4e21a-5db9-49fb-e578-329fb58959d0"
      },
      "execution_count": 3,
      "outputs": [
        {
          "output_type": "execute_result",
          "data": {
            "text/plain": [
              "array([1, 2, 3, 4, 5])"
            ]
          },
          "metadata": {},
          "execution_count": 3
        }
      ]
    },
    {
      "cell_type": "code",
      "source": [
        "arr[1:-1]"
      ],
      "metadata": {
        "colab": {
          "base_uri": "https://localhost:8080/"
        },
        "id": "LhT9n_duSeBD",
        "outputId": "3bc14a79-ebef-4c79-fc99-eebb1c3abfdd"
      },
      "execution_count": 4,
      "outputs": [
        {
          "output_type": "execute_result",
          "data": {
            "text/plain": [
              "array([2, 3, 4])"
            ]
          },
          "metadata": {},
          "execution_count": 4
        }
      ]
    },
    {
      "cell_type": "code",
      "source": [
        "arr[::2]"
      ],
      "metadata": {
        "colab": {
          "base_uri": "https://localhost:8080/"
        },
        "id": "TdCYfJ_KSoUX",
        "outputId": "7de73534-c70b-4507-813a-4daf10f33993"
      },
      "execution_count": 5,
      "outputs": [
        {
          "output_type": "execute_result",
          "data": {
            "text/plain": [
              "array([1, 3, 5])"
            ]
          },
          "metadata": {},
          "execution_count": 5
        }
      ]
    },
    {
      "cell_type": "code",
      "source": [
        "# tipe data array\n",
        "arr.dtype\n",
        "arr = np.array([1,2,3,4,5],dtype=np.float64)\n"
      ],
      "metadata": {
        "id": "3A4s9ZQ6SsWV"
      },
      "execution_count": 6,
      "outputs": []
    },
    {
      "cell_type": "code",
      "source": [
        "b = np.array(['a','b','c'])\n",
        "b.dtype"
      ],
      "metadata": {
        "colab": {
          "base_uri": "https://localhost:8080/"
        },
        "id": "8LfTORpAYUk0",
        "outputId": "b0baf0b4-edda-4ac7-e72b-6f0d66ba280b"
      },
      "execution_count": 7,
      "outputs": [
        {
          "output_type": "execute_result",
          "data": {
            "text/plain": [
              "dtype('<U1')"
            ]
          },
          "metadata": {},
          "execution_count": 7
        }
      ]
    },
    {
      "cell_type": "markdown",
      "source": [
        "## 2D Array or More"
      ],
      "metadata": {
        "id": "LTqqWuYAmEvz"
      }
    },
    {
      "cell_type": "code",
      "source": [
        "# array 2-3 dimensi\n",
        "array2d = np.array([\n",
        "#    0  1  2\n",
        "    [1, 2, 3], # 0\n",
        "    [4, 5, 6], # 1\n",
        "    [7, 8, 9]  # 2\n",
        "    ])\n",
        "\n",
        "array3d = np.array([\n",
        "    [[1,2,3],[1,2,3]],\n",
        "    [[1,2,3],[1,2,3]]\n",
        "])\n",
        "\n",
        "print(array3d)\n",
        "print('\\n')\n",
        "print(array2d)"
      ],
      "metadata": {
        "colab": {
          "base_uri": "https://localhost:8080/"
        },
        "id": "zN-iJK73YuiY",
        "outputId": "7787840f-af3e-4033-864a-6c8c155043f8"
      },
      "execution_count": 8,
      "outputs": [
        {
          "output_type": "stream",
          "name": "stdout",
          "text": [
            "[[[1 2 3]\n",
            "  [1 2 3]]\n",
            "\n",
            " [[1 2 3]\n",
            "  [1 2 3]]]\n",
            "\n",
            "\n",
            "[[1 2 3]\n",
            " [4 5 6]\n",
            " [7 8 9]]\n"
          ]
        }
      ]
    },
    {
      "cell_type": "code",
      "source": [
        "# cek shape,size dan dimensi\n",
        "print(array2d.shape)\n",
        "print(array2d.size)\n",
        "print(array2d.ndim)"
      ],
      "metadata": {
        "colab": {
          "base_uri": "https://localhost:8080/"
        },
        "id": "zf5fvMX_aUYn",
        "outputId": "40bfa588-de7f-4101-8975-a9f3e5b88592"
      },
      "execution_count": 9,
      "outputs": [
        {
          "output_type": "stream",
          "name": "stdout",
          "text": [
            "(3, 3)\n",
            "9\n",
            "2\n"
          ]
        }
      ]
    },
    {
      "cell_type": "code",
      "source": [
        "# cara select data dengan slicing pada array 2d\n",
        "array2d[0,1] # baris ke 0 kolom ke 1"
      ],
      "metadata": {
        "colab": {
          "base_uri": "https://localhost:8080/"
        },
        "id": "jxDnWmBoblB9",
        "outputId": "00f8fbfe-800a-4710-a61f-5aad5ad9d8ef"
      },
      "execution_count": 10,
      "outputs": [
        {
          "output_type": "execute_result",
          "data": {
            "text/plain": [
              "2"
            ]
          },
          "metadata": {},
          "execution_count": 10
        }
      ]
    },
    {
      "cell_type": "code",
      "source": [
        "array2d[0:2] # baris ke 0 sampai baris ke 1"
      ],
      "metadata": {
        "colab": {
          "base_uri": "https://localhost:8080/"
        },
        "id": "L4LxJwMQcfrh",
        "outputId": "dac6be02-cc47-4a2a-c348-b51cf606d0bd"
      },
      "execution_count": 11,
      "outputs": [
        {
          "output_type": "execute_result",
          "data": {
            "text/plain": [
              "array([[1, 2, 3],\n",
              "       [4, 5, 6]])"
            ]
          },
          "metadata": {},
          "execution_count": 11
        }
      ]
    },
    {
      "cell_type": "code",
      "source": [
        "# mengganti seruh data dalam barsi 2 dimensi\n",
        "array2d[2] = [10,20,30]\n",
        "print(array2d)\n",
        "\n",
        "# cara kedua\n",
        "array2d[0] = 100\n",
        "print(array2d)"
      ],
      "metadata": {
        "colab": {
          "base_uri": "https://localhost:8080/"
        },
        "id": "F6FP2sG2kpQF",
        "outputId": "8478a799-600b-4a05-99ce-ea54ea60ba1e"
      },
      "execution_count": 12,
      "outputs": [
        {
          "output_type": "stream",
          "name": "stdout",
          "text": [
            "[[ 1  2  3]\n",
            " [ 4  5  6]\n",
            " [10 20 30]]\n",
            "[[100 100 100]\n",
            " [  4   5   6]\n",
            " [ 10  20  30]]\n"
          ]
        }
      ]
    },
    {
      "cell_type": "code",
      "source": [
        "# Summary statistic\n",
        "print(array2d.min())\n",
        "print(array2d.max())\n",
        "print(array2d.sum())\n",
        "print(array2d.mean())\n",
        "\n",
        "array2d.sum(axis=0) # jumlah kolom\n",
        "array2d.sum(axis=1) # jumlah baris"
      ],
      "metadata": {
        "colab": {
          "base_uri": "https://localhost:8080/"
        },
        "id": "slqcqbamlRgV",
        "outputId": "e31d0033-4ffd-472d-fee9-d34296920f5c"
      },
      "execution_count": 13,
      "outputs": [
        {
          "output_type": "stream",
          "name": "stdout",
          "text": [
            "4\n",
            "100\n",
            "375\n",
            "41.666666666666664\n"
          ]
        },
        {
          "output_type": "execute_result",
          "data": {
            "text/plain": [
              "array([300,  15,  60])"
            ]
          },
          "metadata": {},
          "execution_count": 13
        }
      ]
    },
    {
      "cell_type": "markdown",
      "source": [
        "## Broadcasting and Vectorized operation"
      ],
      "metadata": {
        "id": "iUp6ZOfHmj2c"
      }
    },
    {
      "cell_type": "code",
      "source": [
        "# arange NumPy\n",
        "a = np.arange(4)\n",
        "a"
      ],
      "metadata": {
        "colab": {
          "base_uri": "https://localhost:8080/"
        },
        "id": "FBSUkxXKmgw5",
        "outputId": "3c3cf7f3-97a7-4273-bb16-f4a3c786a08e"
      },
      "execution_count": 14,
      "outputs": [
        {
          "output_type": "execute_result",
          "data": {
            "text/plain": [
              "array([0, 1, 2, 3])"
            ]
          },
          "metadata": {},
          "execution_count": 14
        }
      ]
    },
    {
      "cell_type": "code",
      "source": [
        "# operasi a\n",
        "a + 5\n",
        "a*10\n",
        "a+=100\n",
        "a"
      ],
      "metadata": {
        "colab": {
          "base_uri": "https://localhost:8080/"
        },
        "id": "HVd4spIRnWus",
        "outputId": "697442ea-6c22-40d6-97d5-75d02faff589"
      },
      "execution_count": 15,
      "outputs": [
        {
          "output_type": "execute_result",
          "data": {
            "text/plain": [
              "array([100, 101, 102, 103])"
            ]
          },
          "metadata": {},
          "execution_count": 15
        }
      ]
    },
    {
      "cell_type": "code",
      "source": [
        "l = [1,2,3,4,5]\n",
        "[i * 100 for i in l]"
      ],
      "metadata": {
        "colab": {
          "base_uri": "https://localhost:8080/"
        },
        "id": "N7mgSgFDI9xx",
        "outputId": "e7b04159-a04f-4998-b329-5b5c822b65bb"
      },
      "execution_count": 16,
      "outputs": [
        {
          "output_type": "execute_result",
          "data": {
            "text/plain": [
              "[100, 200, 300, 400, 500]"
            ]
          },
          "metadata": {},
          "execution_count": 16
        }
      ]
    },
    {
      "cell_type": "code",
      "source": [
        "# sum list\n",
        "a = np.arange(4)\n",
        "b = np.array([10,10,10,10])\n",
        "a+b"
      ],
      "metadata": {
        "colab": {
          "base_uri": "https://localhost:8080/"
        },
        "id": "iqUgyJRGJVOl",
        "outputId": "20ce9339-cecf-402d-a824-18e17f363189"
      },
      "execution_count": 17,
      "outputs": [
        {
          "output_type": "execute_result",
          "data": {
            "text/plain": [
              "array([10, 11, 12, 13])"
            ]
          },
          "metadata": {},
          "execution_count": 17
        }
      ]
    },
    {
      "cell_type": "code",
      "source": [
        "a = np.arange(10)\n",
        "a + 20\n"
      ],
      "metadata": {
        "colab": {
          "base_uri": "https://localhost:8080/"
        },
        "id": "lqggf5dMJfYj",
        "outputId": "d4f5fe96-dec4-4d48-ec20-dc7e5c0d5549"
      },
      "execution_count": 18,
      "outputs": [
        {
          "output_type": "execute_result",
          "data": {
            "text/plain": [
              "array([20, 21, 22, 23, 24, 25, 26, 27, 28, 29])"
            ]
          },
          "metadata": {},
          "execution_count": 18
        }
      ]
    },
    {
      "cell_type": "code",
      "source": [
        "a"
      ],
      "metadata": {
        "colab": {
          "base_uri": "https://localhost:8080/"
        },
        "id": "OwldYbrnSXAj",
        "outputId": "dafbce43-1806-40ca-a987-a6b625293995"
      },
      "execution_count": 19,
      "outputs": [
        {
          "output_type": "execute_result",
          "data": {
            "text/plain": [
              "array([0, 1, 2, 3, 4, 5, 6, 7, 8, 9])"
            ]
          },
          "metadata": {},
          "execution_count": 19
        }
      ]
    },
    {
      "cell_type": "code",
      "source": [
        "b = np.arange(5)\n",
        "b"
      ],
      "metadata": {
        "colab": {
          "base_uri": "https://localhost:8080/"
        },
        "id": "9nZJ-CIPRUvU",
        "outputId": "fea61ed3-422b-475c-c565-d9d8210a3dbf"
      },
      "execution_count": 20,
      "outputs": [
        {
          "output_type": "execute_result",
          "data": {
            "text/plain": [
              "array([0, 1, 2, 3, 4])"
            ]
          },
          "metadata": {},
          "execution_count": 20
        }
      ]
    },
    {
      "cell_type": "markdown",
      "source": [
        "Numpy Boolean"
      ],
      "metadata": {
        "id": "c7Nvf92Ibf_l"
      }
    },
    {
      "cell_type": "code",
      "source": [
        "# boolean numpy conditional filtering\n",
        "# menggunakan operator aritmatika\n",
        "a[a>2]\n",
        "\n",
        "# menggunakan and dan or\n",
        "# misalnya, kita ingin mengambil hanya bilangan genap dan yang diatas 2\n",
        "a[(a>2) & (a%2==0)]\n",
        "a[(a>2) | (a%2==0)]\n",
        "\n"
      ],
      "metadata": {
        "colab": {
          "base_uri": "https://localhost:8080/"
        },
        "id": "7N62RwRARp-p",
        "outputId": "e2410727-d7da-4f3e-ea93-0f379e899ee2"
      },
      "execution_count": 21,
      "outputs": [
        {
          "output_type": "execute_result",
          "data": {
            "text/plain": [
              "array([0, 2, 3, 4, 5, 6, 7, 8, 9])"
            ]
          },
          "metadata": {},
          "execution_count": 21
        }
      ]
    },
    {
      "cell_type": "code",
      "source": [
        "a = np.arange(5)\n",
        "\n",
        "print(a<=3)\n",
        "\n",
        "a[a > a.mean()]\n",
        "\n",
        "print(a.mean())"
      ],
      "metadata": {
        "id": "lDUzB5tGbdMn",
        "colab": {
          "base_uri": "https://localhost:8080/"
        },
        "outputId": "a75c0177-d33c-41ed-c47c-066b122ce7ba"
      },
      "execution_count": 25,
      "outputs": [
        {
          "output_type": "stream",
          "name": "stdout",
          "text": [
            "[ True  True  True  True False]\n",
            "2.0\n"
          ]
        }
      ]
    },
    {
      "cell_type": "code",
      "source": [
        "df = np.array([\n",
        "    [1,2,3],\n",
        "    [4,5,6],\n",
        "    [7,8,9]\n",
        "])\n",
        "df\n",
        "df_genap = df[df % 2 == 0] # seleksi data menggunakan booleaan\n",
        "df_genap"
      ],
      "metadata": {
        "colab": {
          "base_uri": "https://localhost:8080/"
        },
        "id": "IhhUv9ARFSCR",
        "outputId": "8fbbb117-8bbf-48b9-a192-e84a544909dd"
      },
      "execution_count": 28,
      "outputs": [
        {
          "output_type": "execute_result",
          "data": {
            "text/plain": [
              "array([2, 4, 6, 8])"
            ]
          },
          "metadata": {},
          "execution_count": 28
        }
      ]
    },
    {
      "cell_type": "code",
      "source": [
        "# aljabar linier\n"
      ],
      "metadata": {
        "id": "8v6Xdkt5HNV6"
      },
      "execution_count": null,
      "outputs": []
    },
    {
      "cell_type": "markdown",
      "source": [
        "Notes:\n",
        "- Ukuran data int dalam python 28 bytes sedangkan numpy hanya 1. sehingga itu berimplikasi terhadap performa numpy lebih baik dibandingkan menggunakan python\n"
      ],
      "metadata": {
        "id": "q97ntoOlITBT"
      }
    },
    {
      "cell_type": "code",
      "source": [
        "import time"
      ],
      "metadata": {
        "id": "ij3hnputJd_d"
      },
      "execution_count": 33,
      "outputs": []
    },
    {
      "cell_type": "code",
      "source": [
        "\n",
        "\n",
        "# Measure time for list comprehension\n",
        "start_time_list = time.time()\n",
        "sum([x ** 2 for x in l])\n",
        "end_time_list = time.time()\n",
        "list_time = end_time_list - start_time_list\n",
        "\n",
        "# Measure time for NumPy operation\n",
        "start_time_np = time.time()\n",
        "sum(lnp ** 2)\n",
        "end_time_np = time.time()\n",
        "numpy_time = end_time_np - start_time_np\n",
        "\n",
        "list_time, numpy_time\n",
        "\n"
      ],
      "metadata": {
        "colab": {
          "base_uri": "https://localhost:8080/"
        },
        "id": "5gN6jdSWISKB",
        "outputId": "d6a5b4cf-8c24-4f44-ffd6-cc61a4ef2128"
      },
      "execution_count": 34,
      "outputs": [
        {
          "output_type": "execute_result",
          "data": {
            "text/plain": [
              "(0.3652808666229248, 0.08641290664672852)"
            ]
          },
          "metadata": {},
          "execution_count": 34
        }
      ]
    },
    {
      "cell_type": "code",
      "source": [
        "\n",
        "import numpy as np\n",
        "\n",
        "\n",
        "# Create sample data\n",
        "data = np.array([1, 2, 3, 4, 5, 6, 7, 8, 9, 10])\n",
        "\n",
        "# 1. Descriptive Statistics\n",
        "print(\"Mean:\", np.mean(data))\n",
        "print(\"Median:\", np.median(data))\n",
        "print(\"Standard Deviation:\", np.std(data))\n",
        "print(\"Variance:\", np.var(data))\n",
        "print(\"Minimum:\", np.min(data))\n",
        "print(\"Maximum:\", np.max(data))\n",
        "print(\"Range:\", np.ptp(data))  # Peak-to-peak (range)\n",
        "print(\"Quantiles:\", np.quantile(data, [0.25, 0.5, 0.75]))\n",
        "\n",
        "# 2. Correlation and Covariance\n",
        "data2 = np.array([2, 4, 6, 8, 10, 12, 14, 16, 18, 20])\n",
        "print(\"Correlation:\", np.corrcoef(data, data2))\n",
        "print(\"Covariance:\", np.cov(data, data2))\n",
        "\n",
        "# 3. Array Manipulation\n",
        "print(\"Reshape:\", data.reshape(2, 5))\n",
        "print(\"Transpose:\", data.reshape(2, 5).transpose())\n",
        "print(\"Concatenate:\", np.concatenate((data, data2)))\n",
        "\n",
        "# 4. Linear Algebra\n",
        "matrix = np.array([[1, 2], [3, 4]])\n",
        "print(\"Determinant:\", np.linalg.det(matrix))\n",
        "print(\"Inverse:\", np.linalg.inv(matrix))\n",
        "print(\"Eigenvalues and Eigenvectors:\", np.linalg.eig(matrix))\n",
        "\n",
        "# 5. Sorting\n",
        "print(\"Sorted data:\", np.sort(data))\n",
        "\n",
        "# 6. Unique Values\n",
        "data_with_duplicates = np.array([1, 2, 2, 3, 3, 3, 4, 5])\n",
        "print(\"Unique values:\", np.unique(data_with_duplicates))\n",
        "\n"
      ],
      "metadata": {
        "colab": {
          "base_uri": "https://localhost:8080/"
        },
        "id": "38bIbpcqKeyv",
        "outputId": "c941e6a0-47ea-4012-e0df-3048080dea78"
      },
      "execution_count": 39,
      "outputs": [
        {
          "output_type": "stream",
          "name": "stdout",
          "text": [
            "Mean: 5.5\n",
            "Median: 5.5\n",
            "Standard Deviation: 2.8722813232690143\n",
            "Variance: 8.25\n",
            "Minimum: 1\n",
            "Maximum: 10\n",
            "Range: 9\n",
            "Quantiles: [3.25 5.5  7.75]\n",
            "Correlation: [[1. 1.]\n",
            " [1. 1.]]\n",
            "Covariance: [[ 9.16666667 18.33333333]\n",
            " [18.33333333 36.66666667]]\n",
            "Reshape: [[ 1  2  3  4  5]\n",
            " [ 6  7  8  9 10]]\n",
            "Transpose: [[ 1  6]\n",
            " [ 2  7]\n",
            " [ 3  8]\n",
            " [ 4  9]\n",
            " [ 5 10]]\n",
            "Concatenate: [ 1  2  3  4  5  6  7  8  9 10  2  4  6  8 10 12 14 16 18 20]\n",
            "Determinant: -2.0000000000000004\n",
            "Inverse: [[-2.   1. ]\n",
            " [ 1.5 -0.5]]\n",
            "Eigenvalues and Eigenvectors: EigResult(eigenvalues=array([-0.37228132,  5.37228132]), eigenvectors=array([[-0.82456484, -0.41597356],\n",
            "       [ 0.56576746, -0.90937671]]))\n",
            "Sorted data: [ 1  2  3  4  5  6  7  8  9 10]\n",
            "Unique values: [1 2 3 4 5]\n"
          ]
        }
      ]
    }
  ]
}